{
 "cells": [
  {
   "cell_type": "code",
   "execution_count": 2,
   "id": "4dd3298e-7a38-4bd4-8e2c-c0cf16635750",
   "metadata": {
    "tags": []
   },
   "outputs": [],
   "source": [
    "import requests\n",
    "import json\n",
    "import pandas as pd\n",
    "import time"
   ]
  },
  {
   "cell_type": "code",
   "execution_count": null,
   "id": "37269bc1-96d9-4e86-977a-a1f2c6e4663b",
   "metadata": {
    "tags": []
   },
   "outputs": [],
   "source": [
    "# Assigning NOAA token to a variable\n",
    "token = 'TUgIXUeJePugMQnRaUBqEHCBaUgPlqCV'\n",
    "# Creating lists to iterate for each FIPS, start date, and end date\n",
    "fips = [15, 16, 17, 18, 19, 20, 21, 22, 23, 24]\n",
    "\n",
    "start_date = ['2015-01-01', '2015-05-01', '2015-09-01',\n",
    "              '2016-01-01', '2016-05-01', '2016-09-01',\n",
    "              '2017-01-01', '2017-05-01', '2017-09-01']\n",
    "\n",
    "end_date = ['2015-04-30', '2015-08-31', '2015-12-31',\n",
    "            '2016-04-30', '2016-08-31', '2016-12-31',\n",
    "            '2017-04-30', '2017-08-31', '2017-12-31']\n",
    "\n",
    "# for loop to iterate for each FIPS\n",
    "for state in fips:\n",
    "   \n",
    "    # Creating an empty list to contain each individual dataframe for the state\n",
    "    df_list = []\n",
    "    \n",
    "    # for loop to iterate index numbers in the date lists\n",
    "    for x in range(len(start_date)):\n",
    "        # Dynamic url creation for the response\n",
    "        url = f'https://www.ncei.noaa.gov/cdo-web/api/v2/data?datasetid=GSOM&startdate={start_date[x]}&enddate={end_date[x]}&units=metric&limit=1000&datatypeid=TAVG&locationid=FIPS:{state}'\n",
    "        response = requests.get(url, headers={'Token': token})\n",
    "        \n",
    "        # Check if the response status code is 200 (OK) before trying to load JSON\n",
    "        if response.status_code == 200:\n",
    "            try:\n",
    "                data = json.loads(response.text)\n",
    "                # pulling only the results from the json file\n",
    "                data = data['results']\n",
    "                df_list.append(pd.DataFrame(data))\n",
    "            \n",
    "            except json.JSONDecodeError as e:\n",
    "                print(f\"Error decoding JSON for FIPS {state} and date {start_date[x]} to {end_date[x]}\")\n",
    "                print(f\"Error details: {e}\")\n",
    "        \n",
    "        # Introduce a delay of one second between API requests\n",
    "        time.sleep(1)\n",
    "\n",
    "    # concatenating all the dataframes in df_list if it exists\n",
    "    if df_list:\n",
    "        df = pd.concat(df_list)\n",
    "        df.to_csv(f'{state}.csv', index=False)"
   ]
  },
  {
   "cell_type": "code",
   "execution_count": null,
   "id": "2be19e91",
   "metadata": {},
   "outputs": [],
   "source": []
  }
 ],
 "metadata": {
  "kernelspec": {
   "display_name": "Python 3 (ipykernel)",
   "language": "python",
   "name": "python3"
  },
  "language_info": {
   "codemirror_mode": {
    "name": "ipython",
    "version": 3
   },
   "file_extension": ".py",
   "mimetype": "text/x-python",
   "name": "python",
   "nbconvert_exporter": "python",
   "pygments_lexer": "ipython3",
   "version": "3.11.5"
  }
 },
 "nbformat": 4,
 "nbformat_minor": 5
}
